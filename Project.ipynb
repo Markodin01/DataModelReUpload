{
 "cells": [
  {
   "cell_type": "markdown",
   "metadata": {},
   "source": [
    "## Import libraries"
   ]
  },
  {
   "cell_type": "code",
   "execution_count": 1,
   "metadata": {},
   "outputs": [],
   "source": [
    "# data manipulation\n",
    "import pandas as pd\n",
    "import numpy as np\n",
    "\n",
    "# data visualization\n",
    "import matplotlib.pyplot as plt\n",
    "import seaborn as sns\n",
    "\n",
    "# models\n",
    "from imblearn.ensemble import BalancedRandomForestClassifier\n",
    "\n",
    "# models trainng and optimization hyperparameters\n",
    "from sklearn.model_selection import train_test_split, GridSearchCV, StratifiedKFold\n",
    "\n",
    "# model evaluation\n",
    "import sklearn.metrics as metrics\n",
    "\n",
    "# settings\n",
    "pd.set_option('display.max_columns', None)\n",
    "import warnings\n",
    "warnings.filterwarnings('ignore')"
   ]
  },
  {
   "cell_type": "markdown",
   "metadata": {},
   "source": [
    "## Prepare and Analysis the Dataset"
   ]
  },
  {
   "cell_type": "code",
   "execution_count": 2,
   "metadata": {},
   "outputs": [
    {
     "name": "stdout",
     "output_type": "stream",
     "text": [
      "Index(['Age', 'Sex', 'Pneumonia', 'Diabetes', 'Asthma', 'Hypertension',\n",
      "       'Obesity', 'Cardiovascular', 'Contact_diagnosed_person', 'Result'],\n",
      "      dtype='object')\n"
     ]
    },
    {
     "data": {
      "text/html": [
       "<div>\n",
       "<style scoped>\n",
       "    .dataframe tbody tr th:only-of-type {\n",
       "        vertical-align: middle;\n",
       "    }\n",
       "\n",
       "    .dataframe tbody tr th {\n",
       "        vertical-align: top;\n",
       "    }\n",
       "\n",
       "    .dataframe thead th {\n",
       "        text-align: right;\n",
       "    }\n",
       "</style>\n",
       "<table border=\"1\" class=\"dataframe\">\n",
       "  <thead>\n",
       "    <tr style=\"text-align: right;\">\n",
       "      <th></th>\n",
       "      <th>Age</th>\n",
       "      <th>Sex</th>\n",
       "      <th>Pneumonia</th>\n",
       "      <th>Diabetes</th>\n",
       "      <th>Asthma</th>\n",
       "      <th>Hypertension</th>\n",
       "      <th>Obesity</th>\n",
       "      <th>Cardiovascular</th>\n",
       "      <th>Contact_diagnosed_person</th>\n",
       "      <th>Result</th>\n",
       "    </tr>\n",
       "  </thead>\n",
       "  <tbody>\n",
       "    <tr>\n",
       "      <th>0</th>\n",
       "      <td>74</td>\n",
       "      <td>2</td>\n",
       "      <td>2</td>\n",
       "      <td>1</td>\n",
       "      <td>2</td>\n",
       "      <td>1</td>\n",
       "      <td>1</td>\n",
       "      <td>2</td>\n",
       "      <td>2</td>\n",
       "      <td>2</td>\n",
       "    </tr>\n",
       "    <tr>\n",
       "      <th>1</th>\n",
       "      <td>71</td>\n",
       "      <td>1</td>\n",
       "      <td>2</td>\n",
       "      <td>1</td>\n",
       "      <td>2</td>\n",
       "      <td>1</td>\n",
       "      <td>1</td>\n",
       "      <td>2</td>\n",
       "      <td>99</td>\n",
       "      <td>2</td>\n",
       "    </tr>\n",
       "    <tr>\n",
       "      <th>2</th>\n",
       "      <td>50</td>\n",
       "      <td>2</td>\n",
       "      <td>1</td>\n",
       "      <td>2</td>\n",
       "      <td>2</td>\n",
       "      <td>2</td>\n",
       "      <td>2</td>\n",
       "      <td>2</td>\n",
       "      <td>99</td>\n",
       "      <td>1</td>\n",
       "    </tr>\n",
       "    <tr>\n",
       "      <th>3</th>\n",
       "      <td>25</td>\n",
       "      <td>1</td>\n",
       "      <td>2</td>\n",
       "      <td>2</td>\n",
       "      <td>2</td>\n",
       "      <td>2</td>\n",
       "      <td>1</td>\n",
       "      <td>2</td>\n",
       "      <td>99</td>\n",
       "      <td>1</td>\n",
       "    </tr>\n",
       "    <tr>\n",
       "      <th>4</th>\n",
       "      <td>28</td>\n",
       "      <td>1</td>\n",
       "      <td>2</td>\n",
       "      <td>2</td>\n",
       "      <td>2</td>\n",
       "      <td>2</td>\n",
       "      <td>2</td>\n",
       "      <td>2</td>\n",
       "      <td>99</td>\n",
       "      <td>2</td>\n",
       "    </tr>\n",
       "    <tr>\n",
       "      <th>...</th>\n",
       "      <td>...</td>\n",
       "      <td>...</td>\n",
       "      <td>...</td>\n",
       "      <td>...</td>\n",
       "      <td>...</td>\n",
       "      <td>...</td>\n",
       "      <td>...</td>\n",
       "      <td>...</td>\n",
       "      <td>...</td>\n",
       "      <td>...</td>\n",
       "    </tr>\n",
       "    <tr>\n",
       "      <th>263002</th>\n",
       "      <td>39</td>\n",
       "      <td>2</td>\n",
       "      <td>2</td>\n",
       "      <td>2</td>\n",
       "      <td>2</td>\n",
       "      <td>2</td>\n",
       "      <td>2</td>\n",
       "      <td>2</td>\n",
       "      <td>1</td>\n",
       "      <td>1</td>\n",
       "    </tr>\n",
       "    <tr>\n",
       "      <th>263003</th>\n",
       "      <td>53</td>\n",
       "      <td>1</td>\n",
       "      <td>1</td>\n",
       "      <td>1</td>\n",
       "      <td>2</td>\n",
       "      <td>2</td>\n",
       "      <td>1</td>\n",
       "      <td>2</td>\n",
       "      <td>99</td>\n",
       "      <td>1</td>\n",
       "    </tr>\n",
       "    <tr>\n",
       "      <th>263004</th>\n",
       "      <td>65</td>\n",
       "      <td>1</td>\n",
       "      <td>2</td>\n",
       "      <td>1</td>\n",
       "      <td>2</td>\n",
       "      <td>1</td>\n",
       "      <td>2</td>\n",
       "      <td>2</td>\n",
       "      <td>99</td>\n",
       "      <td>1</td>\n",
       "    </tr>\n",
       "    <tr>\n",
       "      <th>263005</th>\n",
       "      <td>71</td>\n",
       "      <td>2</td>\n",
       "      <td>1</td>\n",
       "      <td>2</td>\n",
       "      <td>2</td>\n",
       "      <td>1</td>\n",
       "      <td>2</td>\n",
       "      <td>2</td>\n",
       "      <td>2</td>\n",
       "      <td>1</td>\n",
       "    </tr>\n",
       "    <tr>\n",
       "      <th>263006</th>\n",
       "      <td>18</td>\n",
       "      <td>1</td>\n",
       "      <td>2</td>\n",
       "      <td>2</td>\n",
       "      <td>2</td>\n",
       "      <td>2</td>\n",
       "      <td>2</td>\n",
       "      <td>2</td>\n",
       "      <td>2</td>\n",
       "      <td>1</td>\n",
       "    </tr>\n",
       "  </tbody>\n",
       "</table>\n",
       "<p>263007 rows × 10 columns</p>\n",
       "</div>"
      ],
      "text/plain": [
       "        Age  Sex  Pneumonia  Diabetes  Asthma  Hypertension  Obesity  \\\n",
       "0        74    2          2         1       2             1        1   \n",
       "1        71    1          2         1       2             1        1   \n",
       "2        50    2          1         2       2             2        2   \n",
       "3        25    1          2         2       2             2        1   \n",
       "4        28    1          2         2       2             2        2   \n",
       "...     ...  ...        ...       ...     ...           ...      ...   \n",
       "263002   39    2          2         2       2             2        2   \n",
       "263003   53    1          1         1       2             2        1   \n",
       "263004   65    1          2         1       2             1        2   \n",
       "263005   71    2          1         2       2             1        2   \n",
       "263006   18    1          2         2       2             2        2   \n",
       "\n",
       "        Cardiovascular  Contact_diagnosed_person  Result  \n",
       "0                    2                         2       2  \n",
       "1                    2                        99       2  \n",
       "2                    2                        99       1  \n",
       "3                    2                        99       1  \n",
       "4                    2                        99       2  \n",
       "...                ...                       ...     ...  \n",
       "263002               2                         1       1  \n",
       "263003               2                        99       1  \n",
       "263004               2                        99       1  \n",
       "263005               2                         2       1  \n",
       "263006               2                         2       1  \n",
       "\n",
       "[263007 rows x 10 columns]"
      ]
     },
     "execution_count": 2,
     "metadata": {},
     "output_type": "execute_result"
    }
   ],
   "source": [
    "dataset = pd.read_csv('mexico_covid19.csv')\n",
    "dataset = dataset[['EDAD', 'SEXO', 'NEUMONIA', 'DIABETES', 'ASMA', 'HIPERTENSION', 'OBESIDAD',\n",
    "                   'CARDIOVASCULAR', 'OTRO_CASO', 'RESULTADO']]\n",
    "dataset.rename(\n",
    "    columns={'EDAD': 'Age', 'SEXO': 'Sex', 'NEUMONIA': 'Pneumonia', 'DIABETES': 'Diabetes', 'ASMA': 'Asthma',\n",
    "             'HIPERTENSION': 'Hypertension', 'OBESIDAD': 'Obesity', \n",
    "             'CARDIOVASCULAR' : 'Cardiovascular', 'OTRO_CASO': 'Contact_diagnosed_person', 'RESULTADO' : 'Result'},\n",
    "    inplace=True\n",
    ")\n",
    "print(dataset.columns)\n",
    "dataset"
   ]
  },
  {
   "cell_type": "code",
   "execution_count": 3,
   "metadata": {},
   "outputs": [
    {
     "data": {
      "text/html": [
       "<div>\n",
       "<style scoped>\n",
       "    .dataframe tbody tr th:only-of-type {\n",
       "        vertical-align: middle;\n",
       "    }\n",
       "\n",
       "    .dataframe tbody tr th {\n",
       "        vertical-align: top;\n",
       "    }\n",
       "\n",
       "    .dataframe thead th {\n",
       "        text-align: right;\n",
       "    }\n",
       "</style>\n",
       "<table border=\"1\" class=\"dataframe\">\n",
       "  <thead>\n",
       "    <tr style=\"text-align: right;\">\n",
       "      <th></th>\n",
       "      <th>Age</th>\n",
       "      <th>Sex</th>\n",
       "      <th>Pneumonia</th>\n",
       "      <th>Diabetes</th>\n",
       "      <th>Asthma</th>\n",
       "      <th>Hypertension</th>\n",
       "      <th>Obesity</th>\n",
       "      <th>Cardiovascular</th>\n",
       "      <th>Contact_diagnosed_person</th>\n",
       "      <th>Result</th>\n",
       "    </tr>\n",
       "  </thead>\n",
       "  <tbody>\n",
       "    <tr>\n",
       "      <th>count</th>\n",
       "      <td>263007.000000</td>\n",
       "      <td>263007.000000</td>\n",
       "      <td>263007.000000</td>\n",
       "      <td>263007.000000</td>\n",
       "      <td>263007.000000</td>\n",
       "      <td>263007.000000</td>\n",
       "      <td>263007.000000</td>\n",
       "      <td>263007.000000</td>\n",
       "      <td>263007.000000</td>\n",
       "      <td>263007.000000</td>\n",
       "    </tr>\n",
       "    <tr>\n",
       "      <th>mean</th>\n",
       "      <td>42.591627</td>\n",
       "      <td>1.510682</td>\n",
       "      <td>1.842993</td>\n",
       "      <td>2.239712</td>\n",
       "      <td>2.300711</td>\n",
       "      <td>2.174185</td>\n",
       "      <td>2.184763</td>\n",
       "      <td>2.324980</td>\n",
       "      <td>32.283764</td>\n",
       "      <td>1.609672</td>\n",
       "    </tr>\n",
       "    <tr>\n",
       "      <th>std</th>\n",
       "      <td>16.903824</td>\n",
       "      <td>0.499887</td>\n",
       "      <td>0.798979</td>\n",
       "      <td>5.958047</td>\n",
       "      <td>5.682309</td>\n",
       "      <td>5.745114</td>\n",
       "      <td>5.817362</td>\n",
       "      <td>5.796086</td>\n",
       "      <td>45.350310</td>\n",
       "      <td>0.487825</td>\n",
       "    </tr>\n",
       "    <tr>\n",
       "      <th>min</th>\n",
       "      <td>0.000000</td>\n",
       "      <td>1.000000</td>\n",
       "      <td>1.000000</td>\n",
       "      <td>1.000000</td>\n",
       "      <td>1.000000</td>\n",
       "      <td>1.000000</td>\n",
       "      <td>1.000000</td>\n",
       "      <td>1.000000</td>\n",
       "      <td>1.000000</td>\n",
       "      <td>1.000000</td>\n",
       "    </tr>\n",
       "    <tr>\n",
       "      <th>25%</th>\n",
       "      <td>31.000000</td>\n",
       "      <td>1.000000</td>\n",
       "      <td>2.000000</td>\n",
       "      <td>2.000000</td>\n",
       "      <td>2.000000</td>\n",
       "      <td>2.000000</td>\n",
       "      <td>2.000000</td>\n",
       "      <td>2.000000</td>\n",
       "      <td>1.000000</td>\n",
       "      <td>1.000000</td>\n",
       "    </tr>\n",
       "    <tr>\n",
       "      <th>50%</th>\n",
       "      <td>41.000000</td>\n",
       "      <td>2.000000</td>\n",
       "      <td>2.000000</td>\n",
       "      <td>2.000000</td>\n",
       "      <td>2.000000</td>\n",
       "      <td>2.000000</td>\n",
       "      <td>2.000000</td>\n",
       "      <td>2.000000</td>\n",
       "      <td>2.000000</td>\n",
       "      <td>2.000000</td>\n",
       "    </tr>\n",
       "    <tr>\n",
       "      <th>75%</th>\n",
       "      <td>53.000000</td>\n",
       "      <td>2.000000</td>\n",
       "      <td>2.000000</td>\n",
       "      <td>2.000000</td>\n",
       "      <td>2.000000</td>\n",
       "      <td>2.000000</td>\n",
       "      <td>2.000000</td>\n",
       "      <td>2.000000</td>\n",
       "      <td>99.000000</td>\n",
       "      <td>2.000000</td>\n",
       "    </tr>\n",
       "    <tr>\n",
       "      <th>max</th>\n",
       "      <td>120.000000</td>\n",
       "      <td>2.000000</td>\n",
       "      <td>99.000000</td>\n",
       "      <td>98.000000</td>\n",
       "      <td>98.000000</td>\n",
       "      <td>98.000000</td>\n",
       "      <td>98.000000</td>\n",
       "      <td>98.000000</td>\n",
       "      <td>99.000000</td>\n",
       "      <td>2.000000</td>\n",
       "    </tr>\n",
       "  </tbody>\n",
       "</table>\n",
       "</div>"
      ],
      "text/plain": [
       "                 Age            Sex      Pneumonia       Diabetes  \\\n",
       "count  263007.000000  263007.000000  263007.000000  263007.000000   \n",
       "mean       42.591627       1.510682       1.842993       2.239712   \n",
       "std        16.903824       0.499887       0.798979       5.958047   \n",
       "min         0.000000       1.000000       1.000000       1.000000   \n",
       "25%        31.000000       1.000000       2.000000       2.000000   \n",
       "50%        41.000000       2.000000       2.000000       2.000000   \n",
       "75%        53.000000       2.000000       2.000000       2.000000   \n",
       "max       120.000000       2.000000      99.000000      98.000000   \n",
       "\n",
       "              Asthma   Hypertension        Obesity  Cardiovascular  \\\n",
       "count  263007.000000  263007.000000  263007.000000   263007.000000   \n",
       "mean        2.300711       2.174185       2.184763        2.324980   \n",
       "std         5.682309       5.745114       5.817362        5.796086   \n",
       "min         1.000000       1.000000       1.000000        1.000000   \n",
       "25%         2.000000       2.000000       2.000000        2.000000   \n",
       "50%         2.000000       2.000000       2.000000        2.000000   \n",
       "75%         2.000000       2.000000       2.000000        2.000000   \n",
       "max        98.000000      98.000000      98.000000       98.000000   \n",
       "\n",
       "       Contact_diagnosed_person         Result  \n",
       "count             263007.000000  263007.000000  \n",
       "mean                  32.283764       1.609672  \n",
       "std                   45.350310       0.487825  \n",
       "min                    1.000000       1.000000  \n",
       "25%                    1.000000       1.000000  \n",
       "50%                    2.000000       2.000000  \n",
       "75%                   99.000000       2.000000  \n",
       "max                   99.000000       2.000000  "
      ]
     },
     "execution_count": 3,
     "metadata": {},
     "output_type": "execute_result"
    }
   ],
   "source": [
    "dataset.describe()"
   ]
  },
  {
   "cell_type": "code",
   "execution_count": 4,
   "metadata": {},
   "outputs": [
    {
     "name": "stdout",
     "output_type": "stream",
     "text": [
      "<class 'pandas.core.frame.DataFrame'>\n",
      "RangeIndex: 263007 entries, 0 to 263006\n",
      "Data columns (total 10 columns):\n",
      " #   Column                    Non-Null Count   Dtype\n",
      "---  ------                    --------------   -----\n",
      " 0   Age                       263007 non-null  int64\n",
      " 1   Sex                       263007 non-null  int64\n",
      " 2   Pneumonia                 263007 non-null  int64\n",
      " 3   Diabetes                  263007 non-null  int64\n",
      " 4   Asthma                    263007 non-null  int64\n",
      " 5   Hypertension              263007 non-null  int64\n",
      " 6   Obesity                   263007 non-null  int64\n",
      " 7   Cardiovascular            263007 non-null  int64\n",
      " 8   Contact_diagnosed_person  263007 non-null  int64\n",
      " 9   Result                    263007 non-null  int64\n",
      "dtypes: int64(10)\n",
      "memory usage: 20.1 MB\n"
     ]
    }
   ],
   "source": [
    "dataset.info()"
   ]
  },
  {
   "cell_type": "code",
   "execution_count": 5,
   "metadata": {},
   "outputs": [
    {
     "data": {
      "text/html": [
       "<div>\n",
       "<style scoped>\n",
       "    .dataframe tbody tr th:only-of-type {\n",
       "        vertical-align: middle;\n",
       "    }\n",
       "\n",
       "    .dataframe tbody tr th {\n",
       "        vertical-align: top;\n",
       "    }\n",
       "\n",
       "    .dataframe thead th {\n",
       "        text-align: right;\n",
       "    }\n",
       "</style>\n",
       "<table border=\"1\" class=\"dataframe\">\n",
       "  <thead>\n",
       "    <tr style=\"text-align: right;\">\n",
       "      <th></th>\n",
       "      <th>Age</th>\n",
       "      <th>Sex</th>\n",
       "      <th>Pneumonia</th>\n",
       "      <th>Diabetes</th>\n",
       "      <th>Asthma</th>\n",
       "      <th>Hypertension</th>\n",
       "      <th>Obesity</th>\n",
       "      <th>Cardiovascular</th>\n",
       "      <th>Contact_diagnosed_person</th>\n",
       "      <th>Result</th>\n",
       "    </tr>\n",
       "  </thead>\n",
       "  <tbody>\n",
       "    <tr>\n",
       "      <th>0</th>\n",
       "      <td>74</td>\n",
       "      <td>2</td>\n",
       "      <td>2</td>\n",
       "      <td>1</td>\n",
       "      <td>2</td>\n",
       "      <td>1</td>\n",
       "      <td>1</td>\n",
       "      <td>2</td>\n",
       "      <td>2</td>\n",
       "      <td>0</td>\n",
       "    </tr>\n",
       "    <tr>\n",
       "      <th>1</th>\n",
       "      <td>71</td>\n",
       "      <td>1</td>\n",
       "      <td>2</td>\n",
       "      <td>1</td>\n",
       "      <td>2</td>\n",
       "      <td>1</td>\n",
       "      <td>1</td>\n",
       "      <td>2</td>\n",
       "      <td>99</td>\n",
       "      <td>0</td>\n",
       "    </tr>\n",
       "    <tr>\n",
       "      <th>2</th>\n",
       "      <td>50</td>\n",
       "      <td>2</td>\n",
       "      <td>1</td>\n",
       "      <td>2</td>\n",
       "      <td>2</td>\n",
       "      <td>2</td>\n",
       "      <td>2</td>\n",
       "      <td>2</td>\n",
       "      <td>99</td>\n",
       "      <td>1</td>\n",
       "    </tr>\n",
       "    <tr>\n",
       "      <th>3</th>\n",
       "      <td>25</td>\n",
       "      <td>1</td>\n",
       "      <td>2</td>\n",
       "      <td>2</td>\n",
       "      <td>2</td>\n",
       "      <td>2</td>\n",
       "      <td>1</td>\n",
       "      <td>2</td>\n",
       "      <td>99</td>\n",
       "      <td>1</td>\n",
       "    </tr>\n",
       "    <tr>\n",
       "      <th>4</th>\n",
       "      <td>28</td>\n",
       "      <td>1</td>\n",
       "      <td>2</td>\n",
       "      <td>2</td>\n",
       "      <td>2</td>\n",
       "      <td>2</td>\n",
       "      <td>2</td>\n",
       "      <td>2</td>\n",
       "      <td>99</td>\n",
       "      <td>0</td>\n",
       "    </tr>\n",
       "    <tr>\n",
       "      <th>...</th>\n",
       "      <td>...</td>\n",
       "      <td>...</td>\n",
       "      <td>...</td>\n",
       "      <td>...</td>\n",
       "      <td>...</td>\n",
       "      <td>...</td>\n",
       "      <td>...</td>\n",
       "      <td>...</td>\n",
       "      <td>...</td>\n",
       "      <td>...</td>\n",
       "    </tr>\n",
       "    <tr>\n",
       "      <th>263002</th>\n",
       "      <td>39</td>\n",
       "      <td>2</td>\n",
       "      <td>2</td>\n",
       "      <td>2</td>\n",
       "      <td>2</td>\n",
       "      <td>2</td>\n",
       "      <td>2</td>\n",
       "      <td>2</td>\n",
       "      <td>1</td>\n",
       "      <td>1</td>\n",
       "    </tr>\n",
       "    <tr>\n",
       "      <th>263003</th>\n",
       "      <td>53</td>\n",
       "      <td>1</td>\n",
       "      <td>1</td>\n",
       "      <td>1</td>\n",
       "      <td>2</td>\n",
       "      <td>2</td>\n",
       "      <td>1</td>\n",
       "      <td>2</td>\n",
       "      <td>99</td>\n",
       "      <td>1</td>\n",
       "    </tr>\n",
       "    <tr>\n",
       "      <th>263004</th>\n",
       "      <td>65</td>\n",
       "      <td>1</td>\n",
       "      <td>2</td>\n",
       "      <td>1</td>\n",
       "      <td>2</td>\n",
       "      <td>1</td>\n",
       "      <td>2</td>\n",
       "      <td>2</td>\n",
       "      <td>99</td>\n",
       "      <td>1</td>\n",
       "    </tr>\n",
       "    <tr>\n",
       "      <th>263005</th>\n",
       "      <td>71</td>\n",
       "      <td>2</td>\n",
       "      <td>1</td>\n",
       "      <td>2</td>\n",
       "      <td>2</td>\n",
       "      <td>1</td>\n",
       "      <td>2</td>\n",
       "      <td>2</td>\n",
       "      <td>2</td>\n",
       "      <td>1</td>\n",
       "    </tr>\n",
       "    <tr>\n",
       "      <th>263006</th>\n",
       "      <td>18</td>\n",
       "      <td>1</td>\n",
       "      <td>2</td>\n",
       "      <td>2</td>\n",
       "      <td>2</td>\n",
       "      <td>2</td>\n",
       "      <td>2</td>\n",
       "      <td>2</td>\n",
       "      <td>2</td>\n",
       "      <td>1</td>\n",
       "    </tr>\n",
       "  </tbody>\n",
       "</table>\n",
       "<p>263007 rows × 10 columns</p>\n",
       "</div>"
      ],
      "text/plain": [
       "        Age  Sex  Pneumonia  Diabetes  Asthma  Hypertension  Obesity  \\\n",
       "0        74    2          2         1       2             1        1   \n",
       "1        71    1          2         1       2             1        1   \n",
       "2        50    2          1         2       2             2        2   \n",
       "3        25    1          2         2       2             2        1   \n",
       "4        28    1          2         2       2             2        2   \n",
       "...     ...  ...        ...       ...     ...           ...      ...   \n",
       "263002   39    2          2         2       2             2        2   \n",
       "263003   53    1          1         1       2             2        1   \n",
       "263004   65    1          2         1       2             1        2   \n",
       "263005   71    2          1         2       2             1        2   \n",
       "263006   18    1          2         2       2             2        2   \n",
       "\n",
       "        Cardiovascular  Contact_diagnosed_person  Result  \n",
       "0                    2                         2       0  \n",
       "1                    2                        99       0  \n",
       "2                    2                        99       1  \n",
       "3                    2                        99       1  \n",
       "4                    2                        99       0  \n",
       "...                ...                       ...     ...  \n",
       "263002               2                         1       1  \n",
       "263003               2                        99       1  \n",
       "263004               2                        99       1  \n",
       "263005               2                         2       1  \n",
       "263006               2                         2       1  \n",
       "\n",
       "[263007 rows x 10 columns]"
      ]
     },
     "execution_count": 5,
     "metadata": {},
     "output_type": "execute_result"
    }
   ],
   "source": [
    "dataset['Result'] = dataset['Result'].astype(str).str.replace('2','0') # negative\n",
    "dataset['Result'] = dataset['Result'].astype(str).str.replace('1','1') # positive\n",
    "dataset = dataset.apply(pd.to_numeric, errors='ignore')\n",
    "\n",
    "dataset"
   ]
  },
  {
   "cell_type": "markdown",
   "metadata": {},
   "source": [
    "## Exploratory"
   ]
  },
  {
   "cell_type": "code",
   "execution_count": 6,
   "metadata": {},
   "outputs": [
    {
     "data": {
      "text/plain": [
       "0    60.967199\n",
       "1    39.032801\n",
       "Name: Result, dtype: float64"
      ]
     },
     "execution_count": 6,
     "metadata": {},
     "output_type": "execute_result"
    }
   ],
   "source": [
    "dataset['Result'].value_counts(normalize=True) * 100"
   ]
  },
  {
   "cell_type": "code",
   "execution_count": 7,
   "metadata": {},
   "outputs": [
    {
     "data": {
      "text/plain": [
       "Index(['Sex', 'Pneumonia', 'Diabetes', 'Asthma', 'Hypertension', 'Obesity',\n",
       "       'Cardiovascular', 'Contact_diagnosed_person'],\n",
       "      dtype='object')"
      ]
     },
     "execution_count": 7,
     "metadata": {},
     "output_type": "execute_result"
    }
   ],
   "source": [
    "categorical_columns = dataset.drop(['Age', 'Result'], axis='columns').columns\n",
    "categorical_columns"
   ]
  },
  {
   "cell_type": "code",
   "execution_count": 8,
   "metadata": {},
   "outputs": [
    {
     "data": {
      "image/png": "[encoded data removed]",
      "text/plain": [
       "<Figure size 1152x720 with 8 Axes>"
      ]
     },
     "metadata": {
      "needs_background": "light"
     },
     "output_type": "display_data"
    }
   ],
   "source": [
    "fig = plt.figure(figsize=(16,10))\n",
    "fig.subplots_adjust(hspace = 0.5)\n",
    "row = 1\n",
    "for column in categorical_columns:\n",
    "    ax = fig.add_subplot(len(categorical_columns)/2,2,row)\n",
    "    ax = sns.barplot(x=column, y=\"Result\", data=dataset, palette=['#407BFF', '#E0ECFF', 'black'])\n",
    "    ax.set_ylabel(ylabel='Percent positive test ', size=10)\n",
    "    ax.set_xlabel(xlabel=f'Variable - {column}', size=12.5)\n",
    "    row += 1\n",
    "    \n",
    "plt.savefig(\"01_barplots for categorical columns.png\", transparent=True, dpi=200)\n",
    "plt.show()"
   ]
  },
  {
   "cell_type": "code",
   "execution_count": 9,
   "metadata": {},
   "outputs": [
    {
     "data": {
      "image/png": "[encoded data removed]",
      "text/plain": [
       "<Figure size 1152x288 with 1 Axes>"
      ]
     },
     "metadata": {
      "needs_background": "light"
     },
     "output_type": "display_data"
    }
   ],
   "source": [
    "# plt.figure(figsize=(12, 8))\n",
    "palette_result ={0:'#E0ECFF', 1:'#407BFF'}\n",
    "sns_plot = sns.displot(data=dataset, x='Age', hue='Result', kde=True, bins=12)\n",
    "plt.gcf().set_size_inches(16, 4)\n",
    "plt.xlabel('Age', size=15)\n",
    "plt.ylabel('Count', size=15)\n",
    "plt.title('Histogram of Age per Negative/Positive Covid test', size=17.5)\n",
    "sns_plot.savefig(\"02_histogram_of_age_per_covid_test.png\", transparent=True, dpi=200)\n",
    "plt.show()"
   ]
  },
  {
   "cell_type": "markdown",
   "metadata": {},
   "source": [
    "# Train models"
   ]
  },
  {
   "cell_type": "code",
   "execution_count": 10,
   "metadata": {},
   "outputs": [],
   "source": [
    "X_train, X_test, y_train, y_test = train_test_split(dataset.drop('Result', axis=1), \n",
    "                                                    dataset['Result'], \n",
    "                                                    test_size=0.2,\n",
    "                                                    stratify=dataset['Result'],\n",
    "                                                    random_state=42)"
   ]
  },
  {
   "cell_type": "code",
   "execution_count": 11,
   "metadata": {},
   "outputs": [
    {
     "name": "stdout",
     "output_type": "stream",
     "text": [
      "The best estimator: \n",
      "BalancedRandomForestClassifier(max_depth=10, n_estimators=300)\n",
      "\n",
      "The best score: \n",
      "0.5362619542713511\n",
      "\n",
      "The best parameters: \n",
      "{'max_depth': 10, 'n_estimators': 300}\n"
     ]
    }
   ],
   "source": [
    "forest = BalancedRandomForestClassifier(max_depth=10, n_estimators=1000)\n",
    "\n",
    "param_random_forest = {\n",
    "    'max_depth': [3, 5, 10],\n",
    "    'n_estimators': [300, 1000]\n",
    "}\n",
    "\n",
    "kfold = StratifiedKFold(n_splits=10)\n",
    "random_forest = GridSearchCV(forest, param_random_forest, cv=kfold, scoring = 'f1', n_jobs = -1)\n",
    "random_forest.fit(X_train, y_train)\n",
    "\n",
    "print(\"The best estimator: \", random_forest.best_estimator_,\n",
    "      \"\\nThe best score: \", random_forest.best_score_,\n",
    "      \"\\nThe best parameters: \", random_forest.best_params_, sep=\"\\n\")\n",
    "\n",
    "random_forest_model = random_forest.best_estimator_"
   ]
  },
  {
   "cell_type": "markdown",
   "metadata": {},
   "source": [
    "###### Feature Importance"
   ]
  },
  {
   "cell_type": "code",
   "execution_count": 23,
   "metadata": {},
   "outputs": [
    {
     "data": {
      "image/png": "[encoded data removed]",
      "text/plain": [
       "<Figure size 1152x720 with 1 Axes>"
      ]
     },
     "metadata": {
      "needs_background": "light"
     },
     "output_type": "display_data"
    }
   ],
   "source": [
    "plt.figure(figsize=(16, 10))\n",
    "plt.barh(X_test.columns, random_forest_model.feature_importances_, color='#407BFF')\n",
    "plt.title('Feature Importance', size=20)\n",
    "plt.savefig(\"03_feature_importance.png\", transparent=True, dpi=200)\n",
    "plt.show()"
   ]
  },
  {
   "cell_type": "markdown",
   "metadata": {},
   "source": [
    "###### Evaluation"
   ]
  },
  {
   "cell_type": "code",
   "execution_count": 24,
   "metadata": {},
   "outputs": [],
   "source": [
    "y_pred = random_forest_model.predict(X_test)\n",
    "y_pred_proba = random_forest_model.predict_proba(X_test)[:,1]\n",
    "fpr, tpr, thresholds = metrics.roc_curve(y_test, y_pred_proba)"
   ]
  },
  {
   "cell_type": "markdown",
   "metadata": {},
   "source": [
    "###### Precision - Recall - F-score"
   ]
  },
  {
   "cell_type": "code",
   "execution_count": 62,
   "metadata": {},
   "outputs": [
    {
     "name": "stdout",
     "output_type": "stream",
     "text": [
      "Precision: 0.5339357815804653\n",
      "Recall: 0.5410091564387298\n",
      "F-score: 0.5374491968260112\n",
      "Accuracy: 0.6365157218356716\n"
     ]
    }
   ],
   "source": [
    "precision = metrics.precision_score(y_test, y_pred)\n",
    "print(f'Precision: {precision}')\n",
    "recall = metrics.recall_score(y_test, y_pred)\n",
    "print(f'Recall: {recall}')\n",
    "f1_score = metrics.f1_score(y_test, y_pred)\n",
    "print(f'F-score: {f1_score}')\n",
    "accuracy = metrics.accuracy_score(y_test, y_pred)\n",
    "print(f'Accuracy: {accuracy}')"
   ]
  },
  {
   "cell_type": "markdown",
   "metadata": {},
   "source": [
    "###### Confusion matrix"
   ]
  },
  {
   "cell_type": "code",
   "execution_count": 34,
   "metadata": {},
   "outputs": [
    {
     "data": {
      "image/png": "[encoded data removed]",
      "text/plain": [
       "<Figure size 432x432 with 2 Axes>"
      ]
     },
     "metadata": {
      "needs_background": "light"
     },
     "output_type": "display_data"
    }
   ],
   "source": [
    "fig, ax = plt.subplots(figsize=(6, 6))\n",
    "metrics.plot_confusion_matrix(random_forest_model, X_test, y_test, display_labels=['Negative', 'Posiitive'], \n",
    "                      cmap=plt.cm.Blues, normalize=None, ax=ax)\n",
    "plt.show()"
   ]
  },
  {
   "cell_type": "markdown",
   "metadata": {},
   "source": [
    "###### ROC Curve"
   ]
  },
  {
   "cell_type": "code",
   "execution_count": 58,
   "metadata": {},
   "outputs": [
    {
     "data": {
      "image/png": "[encoded data removed]",
      "text/plain": [
       "<Figure size 720x576 with 1 Axes>"
      ]
     },
     "metadata": {
      "needs_background": "light"
     },
     "output_type": "display_data"
    }
   ],
   "source": [
    "plt.figure(figsize=(10, 8))\n",
    "plt.plot(fpr, tpr, \"b:\", linewidth=2,\n",
    "         label=f'Forest: AUC={np.round(metrics.roc_auc_score(y_test, y_pred_proba),3)}')\n",
    "plt.fill_between(fpr, tpr, alpha=0.3)\n",
    "\n",
    "plt.plot([0, 1], [0, 1], 'k--')\n",
    "plt.axis([0, 1, 0, 1])\n",
    "plt.xlabel('False Positive Rate', fontsize=16)\n",
    "plt.ylabel('True Positive Rate', fontsize=16)\n",
    "plt.legend(loc=\"lower right\", fontsize=10)\n",
    "plt.title('ROC curve', fontsize=18)\n",
    "plt.savefig(\"04_ROC_Curve.png\", transparent=True, dpi=200)\n",
    "plt.show()"
   ]
  },
  {
   "cell_type": "markdown",
   "metadata": {},
   "source": [
    "###### Precision-Recall Curve"
   ]
  },
  {
   "cell_type": "code",
   "execution_count": 59,
   "metadata": {},
   "outputs": [
    {
     "name": "stdout",
     "output_type": "stream",
     "text": [
      "Logistic: f1=0.537 auc=0.662\n"
     ]
    },
    {
     "data": {
      "image/png": "[encoded data removed]",
      "text/plain": [
       "<Figure size 720x576 with 1 Axes>"
      ]
     },
     "metadata": {
      "needs_background": "light"
     },
     "output_type": "display_data"
    }
   ],
   "source": [
    "lr_precision, lr_recall, _ = metrics.precision_recall_curve(y_test, y_pred_proba)\n",
    "lr_f1, lr_auc = metrics.f1_score(y_test, y_pred), metrics.auc(fpr, tpr)\n",
    "print('Logistic: f1=%.3f auc=%.3f' % (lr_f1, lr_auc))\n",
    "no_skill = len(y_test[y_test==1]) / len(y_test)\n",
    "# plt.plot([0, 1], [no_skill, no_skill], linestyle='--', label='No Skill')\n",
    "plt.figure(figsize=(10, 8))\n",
    "plt.plot(lr_recall, lr_precision, marker='.', label='Forest', color='#407BFF')\n",
    "plt.xlabel('Recall', fontsize=16)\n",
    "plt.ylabel('Precision', fontsize=16)\n",
    "plt.title('Precision-Recall Curve', fontsize=18)\n",
    "plt.legend()\n",
    "plt.savefig(\"05_Precision_Recall_Curve.png\", transparent=True, dpi=200)\n",
    "plt.show()"
   ]
  },
  {
   "cell_type": "code",
   "execution_count": null,
   "metadata": {},
   "outputs": [],
   "source": []
  }
 ],
 "metadata": {
  "kernelspec": {
   "display_name": "Python 3",
   "language": "python",
   "name": "python3"
  },
  "language_info": {
   "codemirror_mode": {
    "name": "ipython",
    "version": 3
   },
   "file_extension": ".py",
   "mimetype": "text/x-python",
   "name": "python",
   "nbconvert_exporter": "python",
   "pygments_lexer": "ipython3",
   "version": "3.7.4"
  }
 },
 "nbformat": 4,
 "nbformat_minor": 4
}
